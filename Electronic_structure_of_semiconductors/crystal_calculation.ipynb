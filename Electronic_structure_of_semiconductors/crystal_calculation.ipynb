{
 "cells": [
  {
   "cell_type": "code",
   "execution_count": null,
   "metadata": {},
   "outputs": [],
   "source": [
    "#!/bin/bash\n",
    "## Number of slots to use for the calculation---MUST be less or equal to 2\n",
    "NSLOTS=2\n",
    "## Name of .d12 file without its .d12 extension\n",
    "FICD12=Be\n",
    "## Name of the input and output directories\n",
    "INPDIR=$PWD\n",
    "OUTDIR=$PWD/$FICD12\n",
    "export INPDIR OUTDIR\n",
    "## Create output directory\n",
    "mkdir -p $OUTDIR\n",
    "if [ ! -d $OUTDIR ]\n",
    "then\n",
    "  echo $OUTDIR not created\n",
    "  exit\n",
    "fi\n",
    "## Execution\n",
    "echo Starting at `date` >fin_job_pcrystal\n",
    "runmpi17 \"$NSLOTS\" \"$FICD12\" >>fin_job_pcrystal; echo Calculation in $OUTDIR ending at `date` >>fin_job_pcrystal\n",
    "#rm fin_job_pcrystal\n",
    "cat $OUTDIR/\"$FICD12\".out"
   ]
  },
  {
   "cell_type": "code",
   "execution_count": null,
   "metadata": {},
   "outputs": [],
   "source": []
  }
 ],
 "metadata": {
  "kernelspec": {
   "display_name": "Bash",
   "language": "bash",
   "name": "bash"
  },
  "language_info": {
   "codemirror_mode": "shell",
   "file_extension": ".sh",
   "mimetype": "text/x-sh",
   "name": "bash"
  }
 },
 "nbformat": 4,
 "nbformat_minor": 2
}
