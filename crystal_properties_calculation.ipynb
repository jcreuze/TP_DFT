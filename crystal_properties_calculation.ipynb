{
 "cells": [
  {
   "cell_type": "code",
   "execution_count": null,
   "metadata": {},
   "outputs": [],
   "source": [
    "#!/bin/bash\n",
    "## Number of slots to use for the calculation---MUST be less or equal to 2\n",
    "NSLOTS=1\n",
    "## Uncomment the desired line\n",
    "cp MgO_DOSS.d3 MgO.d3 # for DOSS calculation\n",
    "#cp MgO_BAND.d3 MgO.d3 # for BAND STRUCTURE calculation\n",
    "#cp MgO_ECHG.d3 MgO.d3 # for ELECTRON DENSITY MAPS calculation\n",
    "## FILEPREFIX\n",
    "FILEPREFIX=MgO\n",
    "## Name of .d12 file without its .d12 extension\n",
    "FICD12=$FILEPREFIX\n",
    "## F9PREFIX\n",
    "F9PREFIX=$FICD12/$FILEPREFIX\n",
    "## Execution\n",
    "runmpi_prop17 \"$NSLOTS\" \"$FICD12\" \"$FILEPREFIX\" \"$F9PREFIX\"\n",
    "cat $FILEPREFIX/\"$FILEPREFIX\".prop"
   ]
  },
  {
   "cell_type": "code",
   "execution_count": null,
   "metadata": {},
   "outputs": [],
   "source": []
  }
 ],
 "metadata": {
  "kernelspec": {
   "display_name": "Bash",
   "language": "bash",
   "name": "bash"
  },
  "language_info": {
   "codemirror_mode": "shell",
   "file_extension": ".sh",
   "mimetype": "text/x-sh",
   "name": "bash"
  },
  "latex_envs": {
   "LaTeX_envs_menu_present": true,
   "autocomplete": true,
   "bibliofile": "biblio.bib",
   "cite_by": "apalike",
   "current_citInitial": 1,
   "eqLabelWithNumbers": true,
   "eqNumInitial": 1,
   "hotkeys": {
    "equation": "Ctrl-E",
    "itemize": "Ctrl-I"
   },
   "labels_anchors": false,
   "latex_user_defs": false,
   "report_style_numbering": false,
   "user_envs_cfg": false
  }
 },
 "nbformat": 4,
 "nbformat_minor": 2
}
