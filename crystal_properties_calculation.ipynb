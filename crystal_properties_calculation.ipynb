{
 "cells": [
  {
   "cell_type": "code",
   "execution_count": null,
   "metadata": {},
   "outputs": [],
   "source": [
"#!/bin/bash\n",
"## Number of slots to use for the calculation---MUST be less or equal to 2\n",
"NSLOTS=2\n",
"## Name of the output directory of the CRYSTAL calculation\n",
"FILEPREFIX=AlAs\n",
"## Uncomment the desired line\n",
"cp BAND_AND_DOSS.d3 "$FILEPREFIX".d3\n",
"#cp ECHG.d3 "$FILEPREFIX".d3\n",
"## Name of .d3 file without its .d3 extension\n",
"FICD12=$FILEPREFIX\n",
"## F9PREFIX\n",
"F9PREFIX=$FICD12/$FILEPREFIX\n",
"## Execution\n",
"runmpi_prop17 "$NSLOTS" "$FICD12" "$FILEPREFIX" "$F9PREFIX"\n",
"cat $FILEPREFIX/"$FILEPREFIX".prop\n",
"rm "$FILEPREFIX".d3"
]
  },
  {
   "cell_type": "code",
   "execution_count": null,
   "metadata": {},
   "outputs": [],
   "source": []
  }
 ],
 "metadata": {
  "kernelspec": {
   "display_name": "Bash",
   "language": "bash",
   "name": "bash"
  },
  "language_info": {
   "codemirror_mode": "shell",
   "file_extension": ".sh",
   "mimetype": "text/x-sh",
   "name": "bash"
  }
 },
 "nbformat": 4,
 "nbformat_minor": 2
}
