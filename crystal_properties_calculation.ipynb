{
 "cells": [
  {
   "cell_type": "code",
   "execution_count": null,
   "metadata": {},
   "outputs": [],
   "source": [
#!/bin/bash
## Number of slots to use for the calculation---MUST be less or equal to 2
NSLOTS=2
## Name of the output directory of the CRYSTAL calculation
FILEPREFIX=AlAs
## Uncomment the desired line
cp BAND_AND_DOSS.d3 "$FILEPREFIX".d3
#cp ECHG.d3 "$FILEPREFIX".d3
## Name of .d3 file without its .d3 extension
FICD12=$FILEPREFIX
## F9PREFIX
F9PREFIX=$FICD12/$FILEPREFIX
## Execution
runmpi_prop17 "$NSLOTS" "$FICD12" "$FILEPREFIX" "$F9PREFIX"
cat $FILEPREFIX/"$FILEPREFIX".prop
rm "$FILEPREFIX".d3
]
  },
  {
   "cell_type": "code",
   "execution_count": null,
   "metadata": {},
   "outputs": [],
   "source": []
  }
 ],
 "metadata": {
  "kernelspec": {
   "display_name": "Bash",
   "language": "bash",
   "name": "bash"
  },
  "language_info": {
   "codemirror_mode": "shell",
   "file_extension": ".sh",
   "mimetype": "text/x-sh",
   "name": "bash"
  }
 },
 "nbformat": 4,
 "nbformat_minor": 2
}
